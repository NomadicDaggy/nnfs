{
 "cells": [
  {
   "cell_type": "markdown",
   "metadata": {},
   "source": [
    "### Simple non-OO way"
   ]
  },
  {
   "cell_type": "code",
   "execution_count": 16,
   "metadata": {},
   "outputs": [],
   "source": [
    "import numpy as np\n",
    "\n",
    "inputs = [[1, 2, 3, 2.5],\n",
    "          [2, 5, -1, 2],\n",
    "          [-1.5, 2.7, 3.3, -.8]]\n",
    "\n",
    "weights = [[.2, .8, -.5, 1.0],\n",
    "            [.5, -.91, .26, -.5],\n",
    "            [-.26, -.27, .17, .87]]\n",
    "\n",
    "biases = [2, 3, .5]\n",
    "\n",
    "weights2 = [[.1, -.14, .5],\n",
    "            [-.5, .12, -.33],\n",
    "            [-.44, .73, -.13]]\n",
    "\n",
    "biases2 = [-1, 2, -.5]"
   ]
  },
  {
   "cell_type": "code",
   "execution_count": 17,
   "metadata": {},
   "outputs": [
    {
     "data": {
      "text/plain": [
       "array([[ 0.5031 , -1.04185, -2.03875],\n",
       "       [ 0.2434 , -2.7332 , -5.7633 ],\n",
       "       [-0.99314,  1.41254, -0.35655]])"
      ]
     },
     "execution_count": 17,
     "metadata": {},
     "output_type": "execute_result"
    }
   ],
   "source": [
    "# Transpose weights, because np.dot expects dim 1 shape of matrix A\n",
    "# to be equal to dim 0 shape of matrix B\n",
    "layer1_outputs = np.dot(inputs, np.array(weights).T) + biases\n",
    "layer2_outputs = np.dot(layer1_outputs, np.array(weights2).T) + biases2\n",
    "layer2_outputs"
   ]
  },
  {
   "cell_type": "markdown",
   "metadata": {},
   "source": [
    "### OO way"
   ]
  },
  {
   "cell_type": "code",
   "execution_count": 19,
   "metadata": {},
   "outputs": [],
   "source": [
    "np.random.seed(0)"
   ]
  },
  {
   "cell_type": "code",
   "execution_count": 20,
   "metadata": {},
   "outputs": [],
   "source": [
    "# Typically input data is capital X\n",
    "X = [[1, 2, 3, 2.5],\n",
    "     [2, 5, -1, 2],\n",
    "     [-1.5, 2.7, 3.3, -.8]]"
   ]
  },
  {
   "cell_type": "code",
   "execution_count": 21,
   "metadata": {},
   "outputs": [],
   "source": [
    "class Layer_Dense:\n",
    "    def __init__(self, n_inputs, n_neurons):\n",
    "        # multiply by small value, so that rand vals are closer to 0\n",
    "        self.weights = 0.1 * np.random.randn(n_inputs, n_neurons) # x by y matrix\n",
    "        self.biases = np.zeros((1, n_neurons)) # takes shape as first param\n",
    "    \n",
    "    # forward pass\n",
    "    def forward(self, inputs):\n",
    "        self.output = np.dot(inputs, self.weights) + self.biases"
   ]
  },
  {
   "cell_type": "code",
   "execution_count": 29,
   "metadata": {},
   "outputs": [],
   "source": [
    "# shape of output needs to be same as next input, hence the fives\n",
    "layer1 = Layer_Dense(4, 5)\n",
    "layer2 = Layer_Dense(5, 2)"
   ]
  },
  {
   "cell_type": "code",
   "execution_count": 32,
   "metadata": {},
   "outputs": [],
   "source": [
    "layer1.forward(X)\n",
    "layer2.forward(layer1.output)"
   ]
  },
  {
   "cell_type": "code",
   "execution_count": 37,
   "metadata": {},
   "outputs": [
    {
     "name": "stdout",
     "output_type": "stream",
     "text": [
      "[[ 0.31835306  0.69519709  0.51953139 -0.04305516  0.56712282]\n",
      " [ 0.89654695  0.64941058  0.33951667 -0.91490653  0.86963754]\n",
      " [ 0.49708831  0.58571338 -0.19256797  0.25347126  0.1469059 ]] \n",
      "\n",
      "[[ 0.02151476  0.21264463]\n",
      " [ 0.25156569  0.20524615]\n",
      " [ 0.05955091 -0.04484078]]\n"
     ]
    }
   ],
   "source": [
    "print(layer1.output, '\\n')\n",
    "print(layer2.output)"
   ]
  }
 ],
 "metadata": {
  "kernelspec": {
   "display_name": "Python 3",
   "language": "python",
   "name": "python3"
  },
  "language_info": {
   "codemirror_mode": {
    "name": "ipython",
    "version": 3
   },
   "file_extension": ".py",
   "mimetype": "text/x-python",
   "name": "python",
   "nbconvert_exporter": "python",
   "pygments_lexer": "ipython3",
   "version": "3.7.6"
  }
 },
 "nbformat": 4,
 "nbformat_minor": 4
}
